{
 "cells": [
  {
   "cell_type": "code",
   "execution_count": null,
   "metadata": {},
   "outputs": [],
   "source": [
    "import numpy as np\n",
    "import matplotlib.pyplot as plt"
   ]
  },
  {
   "cell_type": "code",
   "execution_count": null,
   "metadata": {},
   "outputs": [],
   "source": [
    "x = np.array([0.03, 0.19, 0.34, 0.46, 0.78, 0.81, 1.08, 1.18, 1.39, 1.60, 1.65, 1.90])\n",
    "y = np.array([0.67, 0.85, 1.05, 1.0, 1.40, 1.5, 1.3, 1.54, 1.55, 1.68, 1.73, 1.6])\n",
    "\n",
    "print(x)\n",
    "print(y)"
   ]
  },
  {
   "cell_type": "code",
   "execution_count": null,
   "metadata": {},
   "outputs": [],
   "source": [
    "def f(x, phi0, phi1):\n",
    "    y = phi0 + phi1 * x\n",
    "    return y"
   ]
  },
  {
   "cell_type": "code",
   "execution_count": null,
   "metadata": {},
   "outputs": [],
   "source": [
    "def plot(x, y, phi0, phi1):\n",
    "    fig,ax = plt.subplots()\n",
    "    ax.scatter(x,y)\n",
    "    plt.xlim([0,2.0])\n",
    "    plt.ylim([0,2.0])\n",
    "    ax.set_xlabel('input, $x$')\n",
    "    ax.set_ylabel('output, $y$')\n",
    "\n",
    "    x_line = np.arange(0,2,0.01)\n",
    "    y_line = f(x_line, phi0, phi1)\n",
    "    plt.plot(x_line, y_line, 'b-', lw=2)\n",
    "\n",
    "    plt.show()"
   ]
  },
  {
   "cell_type": "code",
   "execution_count": null,
   "metadata": {},
   "outputs": [],
   "source": [
    "phi0 = 0.4 ; phi1 = 0.2\n",
    "plot(x,y,phi0,phi1)"
   ]
  },
  {
   "cell_type": "code",
   "execution_count": null,
   "metadata": {},
   "outputs": [],
   "source": [
    "def compute_loss(x,y,phi0, phi1):\n",
    "    N = len(x)\n",
    "    total_loss = 0\n",
    "    for i in range(N):\n",
    "        loss_i = (y[i] - (phi0 + phi1 * x[i])) ** 2\n",
    "        total_loss += loss_i\n",
    "    loss = total_loss / N\n",
    "    return loss"
   ]
  },
  {
   "cell_type": "code",
   "execution_count": null,
   "metadata": {},
   "outputs": [],
   "source": [
    "loss = compute_loss(x,y,phi0,phi1)\n",
    "print(f'your loss = {loss:3.2f}, Ground truth = 7.07')"
   ]
  },
  {
   "cell_type": "code",
   "execution_count": null,
   "metadata": {},
   "outputs": [],
   "source": [
    "phi0 = 1.60 ; phi1 = -0.8\n",
    "\n",
    "plot(x,y,phi0,phi1)\n",
    "loss = compute_loss(x,y,phi0,phi1)\n",
    "print(f'your loss = {loss:3.2f}, ground truth = 10.28')"
   ]
  },
  {
   "cell_type": "code",
   "execution_count": null,
   "metadata": {},
   "outputs": [],
   "source": [
    "# 초기 파라미터 설정\n",
    "phi0 = 0.84\n",
    "phi1 = 0.5\n",
    "\n",
    "# 최적화 전의 손실 계산 및 출력\n",
    "print(f'Initial Loss = {compute_loss(x, y, phi0, phi1):3.2f}')\n",
    "\n",
    "# 손실이 줄어들지 않을 때까지 파라미터 조정\n",
    "prev_loss = float('inf')  # 이전 손실 값을 무한대로 초기화\n",
    "epsilon = 0.0001  # 손실 감소 정도가 충분히 작아지면 종료\n",
    "while True:\n",
    "    # phi0에 대해 손실을 감소시키는 방향으로 조정\n",
    "    phi0 -= epsilon\n",
    "    new_loss = compute_loss(x, y, phi0, phi1)\n",
    "    if new_loss >= prev_loss:\n",
    "        phi0 += epsilon  # 손실이 감소하지 않으면 이전 값으로 되돌림\n",
    "        break  # 손실이 감소하지 않으면 종료\n",
    "    prev_loss = new_loss  # 새로운 손실 값을 저장\n",
    "\n",
    "# phi1에 대해 손실을 감소시키는 방향으로 조정\n",
    "prev_loss = float('inf')  # 이전 손실 값을 무한대로 초기화\n",
    "while True:\n",
    "    phi1 -= epsilon\n",
    "    new_loss = compute_loss(x, y, phi0, phi1)\n",
    "    if new_loss >= prev_loss:\n",
    "        phi1 += epsilon\n",
    "        break\n",
    "    prev_loss = new_loss\n",
    "\n",
    "# 최적화된 파라미터로 손실 계산 및 출력\n",
    "print(f'Optimized Loss = {compute_loss(x, y, phi0, phi1):3.2f}')\n",
    "\n",
    "# 최적화된 파라미터로 플롯 작성\n",
    "plot(x, y, phi0, phi1)\n"
   ]
  },
  {
   "cell_type": "code",
   "execution_count": null,
   "metadata": {},
   "outputs": [],
   "source": [
    "import matplotlib.pyplot as plt\n",
    "\n",
    "# 데이터 값들을 산점도로 그림\n",
    "plt.scatter(x, y, color='b', label='Data Points')\n",
    "\n",
    "# 회귀선을 그림\n",
    "plt.plot(x, f(x, phi0, phi1), color='r', label='Regression Line')\n",
    "\n",
    "# 각 데이터 값들과 회귀선 사이의 관계를 점선으로 나타냄\n",
    "for i in range(len(x)):\n",
    "    plt.plot([x[i], x[i]], [y[i], f(x[i], phi0, phi1)], linestyle='--', color='g', alpha=0.5)  # alpha 값을 조정하여 투명도 설정\n",
    "\n",
    "# 그래프에 범례와 제목 추가\n",
    "plt.legend()\n",
    "plt.title('Linear Regression')\n",
    "plt.xlabel('x')\n",
    "plt.ylabel('y')\n",
    "\n",
    "# 그래프 표시\n",
    "plt.show()\n"
   ]
  },
  {
   "cell_type": "code",
   "execution_count": null,
   "metadata": {},
   "outputs": [],
   "source": [
    "phi0_mesh, phi1_mesh = np.meshgrid(np.arange(0.0, 2.0, 0.02), np.arange(-1.0, 1.0, 0.02))\n",
    "\n",
    "all_losses = np.zeros_like(phi1_mesh)\n",
    "for indices, temp in np.ndenumerate(phi1_mesh):\n",
    "    all_losses[indices] = compute_loss(x, y, phi0_mesh[indices], phi1_mesh[indices])"
   ]
  },
  {
   "cell_type": "code",
   "execution_count": null,
   "metadata": {},
   "outputs": [],
   "source": [
    "fig = plt.figure()\n",
    "ax = plt.axes()\n",
    "\n",
    "fig.set_size_inches(7,7)\n",
    "levels = 256\n",
    "ax.contourf(phi0_mesh, phi1_mesh, all_losses, levels)\n",
    "levels = 40\n",
    "\n",
    "ax.contour(phi0_mesh, phi1_mesh, all_losses, levels, colors = ['#80808080'])\n",
    "ax.set_ylim([1,-1])\n",
    "ax.set_xlabel('intercept, $phi_0$')\n",
    "ax.set_ylabel('slope, $phi_1$')\n",
    "\n",
    "ax.plot(phi0, phi1, 'ro')\n",
    "plt.show()"
   ]
  }
 ],
 "metadata": {
  "kernelspec": {
   "display_name": "base",
   "language": "python",
   "name": "python3"
  },
  "language_info": {
   "codemirror_mode": {
    "name": "ipython",
    "version": 3
   },
   "file_extension": ".py",
   "mimetype": "text/x-python",
   "name": "python",
   "nbconvert_exporter": "python",
   "pygments_lexer": "ipython3",
   "version": "3.11.7"
  }
 },
 "nbformat": 4,
 "nbformat_minor": 2
}
